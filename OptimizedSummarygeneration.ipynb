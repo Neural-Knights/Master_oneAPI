{
  "cells": [
    {
      "cell_type": "code",
      "execution_count": null,
      "metadata": {
        "colab": {
          "base_uri": "https://localhost:8080/"
        },
        "id": "dt-sGSxy_Q6y",
        "outputId": "7ada1dcb-4ee7-40cc-a2d0-0f9e7d300a01"
      },
      "outputs": [
        {
          "name": "stdout",
          "output_type": "stream",
          "text": [
            "Generated Summary:\n",
            "For hardware functions such as input and output and memory allocation, the operating system acts as an intermediary between programs and the computer hardware,[1][2] although the application code is usually executed directly by the hardware and frequently makes system calls to an OS function or is interrupted by it. Time-sharing operating systems schedule tasks for efficient use of the system and may also include accounting software for cost allocation of processor time, mass storage, printing, and other resources. [4] According to third quarter 2016 data, Android's share on smartphones is dominant with 87.5 percent with a growth rate of 10.3 percent per year, followed by Apple's iOS with 12.1 percent with per year decrease in market share of 5.2 percent, while other operating systems amount to just 0.3 percent. Operating systems are found on many devices that contain a computer – from cellular phones and video game consoles to web servers and supercomputers.\n"
          ]
        }
      ],
      "source": [
        "\n",
        "!pip install scikit-learn-intelex\n",
        "import nltk\n",
        "import numpy as np\n",
        "from sklearnex import patch_sklearn\n",
        "patch_sklearn()\n",
        "from sklearn.feature_extraction.text import CountVectorizer\n",
        "from sklearn.feature_extraction.text import TfidfTransformer\n",
        "\n",
        "# Example input text\n",
        "input_text = \"\"\"\n",
        "An operating system (OS) is system software that manages computer hardware and software resources, and provides common services for computer programs.\n",
        "Time-sharing operating systems schedule tasks for efficient use of the system and may also include accounting software for cost allocation of processor time, mass storage, printing, and other resources.\n",
        "For hardware functions such as input and output and memory allocation, the operating system acts as an intermediary between programs and the computer hardware,[1][2] although the application code is usually executed directly by the hardware and frequently makes system calls to an OS function or is interrupted by it. Operating systems are found on many devices that contain a computer – from cellular phones and video game consoles to web servers and supercomputers.\n",
        "The dominant general-purpose personal computer operating system is Microsoft Windows with a market share of around 74.99%. macOS by Apple Inc. is in second place (14.84%), and the varieties of Linux are collectively in third place (2.81%).[3] In the mobile sector (including smartphones and tablets), Android's share is 70.82% in the year 2020.[4] According to third quarter 2016 data, Android's share on smartphones is dominant with 87.5 percent with a growth rate of 10.3 percent per year, followed by Apple's iOS with 12.1 percent with per year decrease in market share of 5.2 percent, while other operating systems amount to just 0.3 percent.[5] Linux distributions are dominant in the server and supercomputing sectors. Other specialized classes of operating systems (special-purpose operating systems),[6][7] such as embedded and real-time systems, exist for many applications. Security-focused operating systems also exist. Some operating systems have low system requirements (e.g. light-weight Linux distribution). Others may have higher system requirements.\n",
        "Some operating systems require installation or may come pre-installed with purchased computers (OEM-installation), whereas others may run directly from media (i.e. live CD) or flash memory (i.e. USB stick).\n",
        "\"\"\"\n",
        "\n",
        "# Tokenize the input text into sentences\n",
        "sentences = nltk.sent_tokenize(input_text)\n",
        "\n",
        "# Extract sentence features using TF-IDF vectorization\n",
        "count_vectorizer = CountVectorizer()\n",
        "count_matrix = count_vectorizer.fit_transform(sentences)\n",
        "\n",
        "tfidf_transformer = TfidfTransformer()\n",
        "tfidf_matrix = tfidf_transformer.fit_transform(count_matrix)\n",
        "\n",
        "# Compute sentence scores\n",
        "sentence_scores = np.squeeze(np.asarray(np.sum(tfidf_matrix, axis=1)))\n",
        "\n",
        "# Sort sentences based on their scores\n",
        "sorted_indices = np.argsort(-sentence_scores)\n",
        "\n",
        "# Select the top sentences as the summary\n",
        "num_sentences = 4  # Number of sentences to include in the summary\n",
        "summary_sentences = [sentences[i] for i in sorted_indices[:num_sentences]]\n",
        "\n",
        "# Join the summary sentences into a single string\n",
        "summary = ' '.join(summary_sentences)\n",
        "\n",
        "# Print the generated summary\n",
        "print(\"Generated Summary:\")\n",
        "print(summary)"
      ]
    },
    {
      "cell_type": "code",
      "execution_count": null,
      "metadata": {},
      "outputs": [],
      "source": []
    },
    {
      "cell_type": "code",
      "execution_count": null,
      "metadata": {
        "id": "UVfTH-DIEWSJ"
      },
      "outputs": [],
      "source": []
    }
  ],
  "metadata": {
    "colab": {
      "provenance": []
    },
    "kernelspec": {
      "display_name": "Python 3",
      "name": "python3"
    },
    "language_info": {
      "name": "python"
    }
  },
  "nbformat": 4,
  "nbformat_minor": 0
}
